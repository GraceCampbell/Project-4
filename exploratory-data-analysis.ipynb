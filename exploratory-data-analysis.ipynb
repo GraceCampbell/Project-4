{
 "cells": [
  {
   "cell_type": "code",
   "execution_count": 2,
   "metadata": {},
   "outputs": [],
   "source": [
    "import pandas as pd\n",
    "import numpy as np\n",
    "import matplotlib.pyplot as plt\n",
    "\n",
    "df = pd.read_csv('materials/housing_cleaned.csv')"
   ]
  },
  {
   "cell_type": "code",
   "execution_count": 3,
   "metadata": {},
   "outputs": [
    {
     "data": {
      "text/html": [
       "<div>\n",
       "<style scoped>\n",
       "    .dataframe tbody tr th:only-of-type {\n",
       "        vertical-align: middle;\n",
       "    }\n",
       "\n",
       "    .dataframe tbody tr th {\n",
       "        vertical-align: top;\n",
       "    }\n",
       "\n",
       "    .dataframe thead th {\n",
       "        text-align: right;\n",
       "    }\n",
       "</style>\n",
       "<table border=\"1\" class=\"dataframe\">\n",
       "  <thead>\n",
       "    <tr style=\"text-align: right;\">\n",
       "      <th></th>\n",
       "      <th>disaster</th>\n",
       "      <th>state</th>\n",
       "      <th>county</th>\n",
       "      <th>city</th>\n",
       "      <th>zip</th>\n",
       "      <th>valid_registrations</th>\n",
       "      <th>avg_inspected_damage</th>\n",
       "      <th>total_inspected</th>\n",
       "      <th>total_damage</th>\n",
       "      <th>no_inspected_damage</th>\n",
       "      <th>...</th>\n",
       "      <th>approved_for_assistance</th>\n",
       "      <th>total_approved_amt</th>\n",
       "      <th>repair_replace_amt</th>\n",
       "      <th>rental_amt</th>\n",
       "      <th>other_needs_amt</th>\n",
       "      <th>approved_1_10000</th>\n",
       "      <th>approved_10001_25000</th>\n",
       "      <th>approved_25001_max</th>\n",
       "      <th>total_max_grants</th>\n",
       "      <th>disaster_type</th>\n",
       "    </tr>\n",
       "  </thead>\n",
       "  <tbody>\n",
       "    <tr>\n",
       "      <th>0</th>\n",
       "      <td>4341</td>\n",
       "      <td>FL</td>\n",
       "      <td>Big Cypress Indian Reservation</td>\n",
       "      <td>ALTAMONTE SPRINGS</td>\n",
       "      <td>32701</td>\n",
       "      <td>1</td>\n",
       "      <td>0.0</td>\n",
       "      <td>1</td>\n",
       "      <td>0</td>\n",
       "      <td>1</td>\n",
       "      <td>...</td>\n",
       "      <td>0</td>\n",
       "      <td>0</td>\n",
       "      <td>0</td>\n",
       "      <td>0</td>\n",
       "      <td>0</td>\n",
       "      <td>0</td>\n",
       "      <td>0</td>\n",
       "      <td>0</td>\n",
       "      <td>0</td>\n",
       "      <td>Hurricane</td>\n",
       "    </tr>\n",
       "    <tr>\n",
       "      <th>1</th>\n",
       "      <td>4341</td>\n",
       "      <td>FL</td>\n",
       "      <td>Big Cypress Indian Reservation</td>\n",
       "      <td>APOPKA</td>\n",
       "      <td>32712</td>\n",
       "      <td>1</td>\n",
       "      <td>0.0</td>\n",
       "      <td>1</td>\n",
       "      <td>0</td>\n",
       "      <td>1</td>\n",
       "      <td>...</td>\n",
       "      <td>0</td>\n",
       "      <td>0</td>\n",
       "      <td>0</td>\n",
       "      <td>0</td>\n",
       "      <td>0</td>\n",
       "      <td>0</td>\n",
       "      <td>0</td>\n",
       "      <td>0</td>\n",
       "      <td>0</td>\n",
       "      <td>Hurricane</td>\n",
       "    </tr>\n",
       "    <tr>\n",
       "      <th>2</th>\n",
       "      <td>4341</td>\n",
       "      <td>FL</td>\n",
       "      <td>Big Cypress Indian Reservation</td>\n",
       "      <td>AVENTURA</td>\n",
       "      <td>33180</td>\n",
       "      <td>1</td>\n",
       "      <td>0.0</td>\n",
       "      <td>1</td>\n",
       "      <td>0</td>\n",
       "      <td>1</td>\n",
       "      <td>...</td>\n",
       "      <td>0</td>\n",
       "      <td>0</td>\n",
       "      <td>0</td>\n",
       "      <td>0</td>\n",
       "      <td>0</td>\n",
       "      <td>0</td>\n",
       "      <td>0</td>\n",
       "      <td>0</td>\n",
       "      <td>0</td>\n",
       "      <td>Hurricane</td>\n",
       "    </tr>\n",
       "    <tr>\n",
       "      <th>3</th>\n",
       "      <td>4341</td>\n",
       "      <td>FL</td>\n",
       "      <td>Big Cypress Indian Reservation</td>\n",
       "      <td>AVON PARK</td>\n",
       "      <td>33825</td>\n",
       "      <td>1</td>\n",
       "      <td>0.0</td>\n",
       "      <td>1</td>\n",
       "      <td>0</td>\n",
       "      <td>1</td>\n",
       "      <td>...</td>\n",
       "      <td>0</td>\n",
       "      <td>0</td>\n",
       "      <td>0</td>\n",
       "      <td>0</td>\n",
       "      <td>0</td>\n",
       "      <td>0</td>\n",
       "      <td>0</td>\n",
       "      <td>0</td>\n",
       "      <td>0</td>\n",
       "      <td>Hurricane</td>\n",
       "    </tr>\n",
       "    <tr>\n",
       "      <th>4</th>\n",
       "      <td>4341</td>\n",
       "      <td>FL</td>\n",
       "      <td>Big Cypress Indian Reservation</td>\n",
       "      <td>BELL</td>\n",
       "      <td>32619</td>\n",
       "      <td>1</td>\n",
       "      <td>0.0</td>\n",
       "      <td>1</td>\n",
       "      <td>0</td>\n",
       "      <td>1</td>\n",
       "      <td>...</td>\n",
       "      <td>0</td>\n",
       "      <td>0</td>\n",
       "      <td>0</td>\n",
       "      <td>0</td>\n",
       "      <td>0</td>\n",
       "      <td>0</td>\n",
       "      <td>0</td>\n",
       "      <td>0</td>\n",
       "      <td>0</td>\n",
       "      <td>Hurricane</td>\n",
       "    </tr>\n",
       "  </tbody>\n",
       "</table>\n",
       "<p>5 rows × 24 columns</p>\n",
       "</div>"
      ],
      "text/plain": [
       "   disaster state                          county               city    zip  \\\n",
       "0      4341    FL  Big Cypress Indian Reservation  ALTAMONTE SPRINGS  32701   \n",
       "1      4341    FL  Big Cypress Indian Reservation             APOPKA  32712   \n",
       "2      4341    FL  Big Cypress Indian Reservation           AVENTURA  33180   \n",
       "3      4341    FL  Big Cypress Indian Reservation          AVON PARK  33825   \n",
       "4      4341    FL  Big Cypress Indian Reservation               BELL  32619   \n",
       "\n",
       "   valid_registrations  avg_inspected_damage  total_inspected  total_damage  \\\n",
       "0                    1                   0.0                1             0   \n",
       "1                    1                   0.0                1             0   \n",
       "2                    1                   0.0                1             0   \n",
       "3                    1                   0.0                1             0   \n",
       "4                    1                   0.0                1             0   \n",
       "\n",
       "   no_inspected_damage  ...  approved_for_assistance  total_approved_amt  \\\n",
       "0                    1  ...                        0                   0   \n",
       "1                    1  ...                        0                   0   \n",
       "2                    1  ...                        0                   0   \n",
       "3                    1  ...                        0                   0   \n",
       "4                    1  ...                        0                   0   \n",
       "\n",
       "   repair_replace_amt  rental_amt  other_needs_amt  approved_1_10000  \\\n",
       "0                   0           0                0                 0   \n",
       "1                   0           0                0                 0   \n",
       "2                   0           0                0                 0   \n",
       "3                   0           0                0                 0   \n",
       "4                   0           0                0                 0   \n",
       "\n",
       "   approved_10001_25000  approved_25001_max  total_max_grants  disaster_type  \n",
       "0                     0                   0                 0      Hurricane  \n",
       "1                     0                   0                 0      Hurricane  \n",
       "2                     0                   0                 0      Hurricane  \n",
       "3                     0                   0                 0      Hurricane  \n",
       "4                     0                   0                 0      Hurricane  \n",
       "\n",
       "[5 rows x 24 columns]"
      ]
     },
     "execution_count": 3,
     "metadata": {},
     "output_type": "execute_result"
    }
   ],
   "source": [
    "df.head()"
   ]
  },
  {
   "cell_type": "code",
   "execution_count": 4,
   "metadata": {},
   "outputs": [
    {
     "data": {
      "text/plain": [
       "(23091, 24)"
      ]
     },
     "execution_count": 4,
     "metadata": {},
     "output_type": "execute_result"
    }
   ],
   "source": [
    "df.shape"
   ]
  },
  {
   "cell_type": "code",
   "execution_count": 5,
   "metadata": {},
   "outputs": [
    {
     "data": {
      "text/plain": [
       "0"
      ]
     },
     "execution_count": 5,
     "metadata": {},
     "output_type": "execute_result"
    }
   ],
   "source": [
    "df.isnull().sum().sum()"
   ]
  },
  {
   "cell_type": "code",
   "execution_count": 6,
   "metadata": {},
   "outputs": [
    {
     "data": {
      "text/html": [
       "<div>\n",
       "<style scoped>\n",
       "    .dataframe tbody tr th:only-of-type {\n",
       "        vertical-align: middle;\n",
       "    }\n",
       "\n",
       "    .dataframe tbody tr th {\n",
       "        vertical-align: top;\n",
       "    }\n",
       "\n",
       "    .dataframe thead th {\n",
       "        text-align: right;\n",
       "    }\n",
       "</style>\n",
       "<table border=\"1\" class=\"dataframe\">\n",
       "  <thead>\n",
       "    <tr style=\"text-align: right;\">\n",
       "      <th></th>\n",
       "      <th>mean</th>\n",
       "      <th>max</th>\n",
       "    </tr>\n",
       "  </thead>\n",
       "  <tbody>\n",
       "    <tr>\n",
       "      <th>valid_registrations</th>\n",
       "      <td>139.937725</td>\n",
       "      <td>21161.0</td>\n",
       "    </tr>\n",
       "    <tr>\n",
       "      <th>avg_inspected_damage</th>\n",
       "      <td>2093.181873</td>\n",
       "      <td>178932.0</td>\n",
       "    </tr>\n",
       "    <tr>\n",
       "      <th>total_inspected</th>\n",
       "      <td>80.972673</td>\n",
       "      <td>15328.0</td>\n",
       "    </tr>\n",
       "    <tr>\n",
       "      <th>total_damage</th>\n",
       "      <td>298464.685592</td>\n",
       "      <td>189298510.0</td>\n",
       "    </tr>\n",
       "    <tr>\n",
       "      <th>no_inspected_damage</th>\n",
       "      <td>24.752501</td>\n",
       "      <td>5883.0</td>\n",
       "    </tr>\n",
       "    <tr>\n",
       "      <th>damage_1_10000</th>\n",
       "      <td>47.066693</td>\n",
       "      <td>8888.0</td>\n",
       "    </tr>\n",
       "    <tr>\n",
       "      <th>damage_10000_20000</th>\n",
       "      <td>5.186523</td>\n",
       "      <td>1897.0</td>\n",
       "    </tr>\n",
       "    <tr>\n",
       "      <th>damage_20000_30000</th>\n",
       "      <td>2.326881</td>\n",
       "      <td>2614.0</td>\n",
       "    </tr>\n",
       "    <tr>\n",
       "      <th>damage_30000_max</th>\n",
       "      <td>1.634923</td>\n",
       "      <td>2455.0</td>\n",
       "    </tr>\n",
       "    <tr>\n",
       "      <th>approved_for_assistance</th>\n",
       "      <td>51.912347</td>\n",
       "      <td>8189.0</td>\n",
       "    </tr>\n",
       "    <tr>\n",
       "      <th>total_approved_amt</th>\n",
       "      <td>202334.639860</td>\n",
       "      <td>102475361.0</td>\n",
       "    </tr>\n",
       "    <tr>\n",
       "      <th>repair_replace_amt</th>\n",
       "      <td>127628.252566</td>\n",
       "      <td>74130008.0</td>\n",
       "    </tr>\n",
       "    <tr>\n",
       "      <th>rental_amt</th>\n",
       "      <td>36654.808497</td>\n",
       "      <td>15849617.0</td>\n",
       "    </tr>\n",
       "    <tr>\n",
       "      <th>other_needs_amt</th>\n",
       "      <td>38051.386687</td>\n",
       "      <td>13350219.0</td>\n",
       "    </tr>\n",
       "    <tr>\n",
       "      <th>approved_1_10000</th>\n",
       "      <td>45.740635</td>\n",
       "      <td>7679.0</td>\n",
       "    </tr>\n",
       "    <tr>\n",
       "      <th>approved_10001_25000</th>\n",
       "      <td>4.694556</td>\n",
       "      <td>2098.0</td>\n",
       "    </tr>\n",
       "    <tr>\n",
       "      <th>approved_25001_max</th>\n",
       "      <td>1.477156</td>\n",
       "      <td>1768.0</td>\n",
       "    </tr>\n",
       "    <tr>\n",
       "      <th>total_max_grants</th>\n",
       "      <td>0.684899</td>\n",
       "      <td>789.0</td>\n",
       "    </tr>\n",
       "  </tbody>\n",
       "</table>\n",
       "</div>"
      ],
      "text/plain": [
       "                                  mean          max\n",
       "valid_registrations         139.937725      21161.0\n",
       "avg_inspected_damage       2093.181873     178932.0\n",
       "total_inspected              80.972673      15328.0\n",
       "total_damage             298464.685592  189298510.0\n",
       "no_inspected_damage          24.752501       5883.0\n",
       "damage_1_10000               47.066693       8888.0\n",
       "damage_10000_20000            5.186523       1897.0\n",
       "damage_20000_30000            2.326881       2614.0\n",
       "damage_30000_max              1.634923       2455.0\n",
       "approved_for_assistance      51.912347       8189.0\n",
       "total_approved_amt       202334.639860  102475361.0\n",
       "repair_replace_amt       127628.252566   74130008.0\n",
       "rental_amt                36654.808497   15849617.0\n",
       "other_needs_amt           38051.386687   13350219.0\n",
       "approved_1_10000             45.740635       7679.0\n",
       "approved_10001_25000          4.694556       2098.0\n",
       "approved_25001_max            1.477156       1768.0\n",
       "total_max_grants              0.684899        789.0"
      ]
     },
     "execution_count": 6,
     "metadata": {},
     "output_type": "execute_result"
    }
   ],
   "source": [
    "df.iloc[:, 5:].describe().iloc[[1, 7]].T"
   ]
  },
  {
   "cell_type": "code",
   "execution_count": 7,
   "metadata": {},
   "outputs": [],
   "source": [
    "states_dict = {'AL': 'Alabama', 'AK': 'Alaska', 'AZ': 'Arizona', 'AR': 'Arkansas', 'CA': 'California', \n",
    "               'CO': 'Colorado', 'CT': 'Connecticut', 'DE': 'Delaware', 'FL': 'Florida', \n",
    "               'GA': 'Georgia', 'HI': 'Hawaii', 'ID': 'Idaho', 'IL': 'Illinois', 'IN': 'Indiana', \n",
    "               'IA': 'Iowa', 'KS': 'Kansas', 'KY': 'Kentucky', 'LA': 'Louisiana', 'ME': 'Maine', \n",
    "               'MD': 'Maryland', 'MA': 'Massachusetts', 'MI': 'Michigan', 'MN': 'Minnesota', \n",
    "               'MS': 'Mississippi', 'MO': 'Missouri', 'MT': 'Montana', 'NE': 'Nebraska', \n",
    "               'NH': 'New Hampshire', 'NJ': 'New Jersey', 'NM': 'New Mexico', 'NY': 'New York', \n",
    "               'NC': 'North Carolina', 'ND': 'North Dakota', 'OH': 'Ohio', 'OK': 'Oklahoma', \n",
    "               'OR': 'Oregon', 'PA': 'Pennsylvania', 'RI': 'Rhode Island', 'SC': 'South Carolina',\n",
    "               'SD': 'South Dakota', 'TN': 'Tennessee', 'UT': 'Utah', 'VT': 'Vermont', \n",
    "               'VA': 'Virginia', 'WA': 'Washington', 'WV': 'West Virginia', 'WI': 'Wisconsin', \n",
    "               'WY': 'Wyoming', 'AS': 'American Samoa', 'GU': 'Guam', 'MP': 'Northern Mariana Islands',\n",
    "               'PR': 'Puerto Rico', 'VI': 'U.S. Virgin Islands'}"
   ]
  },
  {
   "cell_type": "code",
   "execution_count": 8,
   "metadata": {},
   "outputs": [
    {
     "data": {
      "text/plain": [
       "['Alaska',\n",
       " 'Colorado',\n",
       " 'Florida',\n",
       " 'Georgia',\n",
       " 'Hawaii',\n",
       " 'Illinois',\n",
       " 'Indiana',\n",
       " 'Kentucky',\n",
       " 'Louisiana',\n",
       " 'Michigan',\n",
       " 'Minnesota',\n",
       " 'Mississippi',\n",
       " 'Missouri',\n",
       " 'North Carolina',\n",
       " 'South Carolina',\n",
       " 'Virginia',\n",
       " 'Washington',\n",
       " 'West Virginia',\n",
       " 'Wyoming',\n",
       " 'American Samoa',\n",
       " 'Northern Mariana Islands',\n",
       " 'Puerto Rico',\n",
       " 'U.S. Virgin Islands']"
      ]
     },
     "execution_count": 8,
     "metadata": {},
     "output_type": "execute_result"
    }
   ],
   "source": [
    "# All states we have in this dataset\n",
    "states = [states_dict.get(state) for state in states_dict.keys() \n",
    "          if state in df['state'].value_counts().index]\n",
    "states"
   ]
  },
  {
   "cell_type": "code",
   "execution_count": 12,
   "metadata": {},
   "outputs": [
    {
     "data": {
      "text/plain": [
       "4116"
      ]
     },
     "execution_count": 12,
     "metadata": {},
     "output_type": "execute_result"
    }
   ],
   "source": [
    "df['disaster'].min()"
   ]
  },
  {
   "cell_type": "markdown",
   "metadata": {},
   "source": [
    "This data only goes back to a severe storm w/ flooding from April 16, 2013 - May 05, 2013."
   ]
  },
  {
   "cell_type": "markdown",
   "metadata": {},
   "source": [
    "## Zillow Information"
   ]
  },
  {
   "cell_type": "markdown",
   "metadata": {},
   "source": [
    "Information from the \"top tier\" and \"bottom tier\" houses by county."
   ]
  },
  {
   "cell_type": "code",
   "execution_count": 28,
   "metadata": {},
   "outputs": [],
   "source": [
    "top_tier = pd.read_csv('./materials/zillow_top_tier.csv')\n",
    "bottom_tier = pd.read_csv('./materials/zillow_bottom_tier.csv')"
   ]
  },
  {
   "cell_type": "code",
   "execution_count": 32,
   "metadata": {},
   "outputs": [],
   "source": [
    "top_tier.drop(['Metro', 'StateCodeFIPS', 'MunicipalCodeFIPS', 'SizeRank'], axis=1, inplace=True)\n",
    "bottom_tier.drop(['Metro', 'StateCodeFIPS', 'MunicipalCodeFIPS', 'SizeRank'], axis=1, inplace=True)"
   ]
  },
  {
   "cell_type": "code",
   "execution_count": 80,
   "metadata": {},
   "outputs": [],
   "source": [
    "# The homes for months/years during which we have FEMA data\n",
    "\n",
    "top_2013 = top_tier.drop(top_tier.iloc[:, 3:207], axis=1)\n",
    "top_2013['is_top'] = 1\n",
    "bottom_2013 = bottom_tier.drop(bottom_tier.iloc[:, 3:207], axis=1)\n",
    "bottom_2013['is_top'] = 0"
   ]
  },
  {
   "cell_type": "code",
   "execution_count": 165,
   "metadata": {},
   "outputs": [],
   "source": [
    "# Combining top and bottom tier dataframes (with top/bottom labels)\n",
    "\n",
    "home_values = top_2013.append(bottom_2013)\n",
    "home_values = home_values.sort_values(by='State')"
   ]
  },
  {
   "cell_type": "markdown",
   "metadata": {},
   "source": [
    "## Georgia-Florida Hurricane Michael\n",
    "October 2018"
   ]
  },
  {
   "cell_type": "code",
   "execution_count": 14,
   "metadata": {},
   "outputs": [],
   "source": [
    "# Creating dataframe of only GA-FL cases from Hurricane Michael with relevant columns\n",
    "ga_fl = df.loc[(df['disaster'] == 4400) | (df['disaster'] == 4399) | \n",
    "                       (df['disaster'] == 4338) | (df['disaster'] == 4337),\n",
    "                      ['disaster', 'state', 'county', 'city', 'zip', 'total_damage', \n",
    "                       'total_approved_amt', 'valid_registrations', 'approved_for_assistance']]"
   ]
  },
  {
   "cell_type": "code",
   "execution_count": 15,
   "metadata": {},
   "outputs": [],
   "source": [
    "# Dropping the rows in which 'total_damage' is 0\n",
    "ga_fl = ga_fl[ga_fl['total_damage'] != 0]"
   ]
  },
  {
   "cell_type": "code",
   "execution_count": 16,
   "metadata": {},
   "outputs": [
    {
     "data": {
      "image/png": "[encoded data removed]",
      "text/plain": [
       "<Figure size 936x864 with 1 Axes>"
      ]
     },
     "metadata": {
      "needs_background": "light"
     },
     "output_type": "display_data"
    }
   ],
   "source": [
    "spending_pct = (ga_fl[ga_fl['state'] == 'GA']['total_approved_amt'].groupby(ga_fl['county']).sum() / \n",
    "                ga_fl[ga_fl['state'] == 'GA']['total_damage'].groupby(ga_fl['county']).sum())\n",
    "values = list(spending_pct.values)\n",
    "values.sort(reverse=True)\n",
    "ones = pd.DataFrame(np.ones(len(spending_pct)))\n",
    "spending_df = pd.DataFrame(spending_pct).reset_index().merge(ones, on=spending_pct.index).drop('key_0', axis=1)\n",
    "spending_df.set_index('county', inplace=True)\n",
    "\n",
    "ax = spending_df.sort_values(by='0_x', ascending=False).plot(kind='barh', colormap='tab20c', \n",
    "                                                             figsize=(13, 12), legend=False)\n",
    "ax.set_title('Percentage of Damage Cost Approved by FEMA\\nfor Georgia - Hurricane Michael', fontsize=20)\n",
    "ax.set_ylabel('County');"
   ]
  },
  {
   "cell_type": "code",
   "execution_count": 17,
   "metadata": {},
   "outputs": [
    {
     "data": {
      "image/png": "[encoded data removed]",
      "text/plain": [
       "<Figure size 936x864 with 1 Axes>"
      ]
     },
     "metadata": {
      "needs_background": "light"
     },
     "output_type": "display_data"
    }
   ],
   "source": [
    "spending_pct = (ga_fl[ga_fl['state'] == 'FL']['total_approved_amt'].groupby(ga_fl['county']).sum() / \n",
    "                ga_fl[ga_fl['state'] == 'FL']['total_damage'].groupby(ga_fl['county']).sum())\n",
    "values = list(spending_pct.values)\n",
    "values.sort(reverse=True)\n",
    "ones = pd.DataFrame(np.ones(len(spending_pct)))\n",
    "spending_df = pd.DataFrame(spending_pct).reset_index().merge(ones, on=spending_pct.index).drop('key_0', axis=1)\n",
    "spending_df.set_index('county', inplace=True)\n",
    "\n",
    "ax = spending_df.sort_values(by='0_x', ascending=False).plot(kind='barh', colormap='tab20c', \n",
    "                                                             figsize=(13, 12), legend=False)\n",
    "ax.set_title('Percentage of Damage Cost Approved by FEMA\\nfor Florida - Hurricane Michael', fontsize=20)\n",
    "ax.set_ylabel('County');"
   ]
  },
  {
   "cell_type": "code",
   "execution_count": null,
   "metadata": {},
   "outputs": [],
   "source": []
  }
 ],
 "metadata": {
  "kernelspec": {
   "display_name": "Python 3",
   "language": "python",
   "name": "python3"
  },
  "language_info": {
   "codemirror_mode": {
    "name": "ipython",
    "version": 3
   },
   "file_extension": ".py",
   "mimetype": "text/x-python",
   "name": "python",
   "nbconvert_exporter": "python",
   "pygments_lexer": "ipython3",
   "version": "3.7.3"
  }
 },
 "nbformat": 4,
 "nbformat_minor": 2
}
